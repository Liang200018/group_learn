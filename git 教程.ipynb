{
 "cells": [
  {
   "cell_type": "markdown",
   "id": "556f2728",
   "metadata": {},
   "source": [
    "# git使用\n",
    "## 使用场景1： 本地master和远程分支同步，自己开发新feature"
   ]
  },
  {
   "cell_type": "markdown",
   "id": "86adc951",
   "metadata": {},
   "source": [
    "```python\n",
    "!git pull\n",
    "remote: Enumerating objects: 63, done.\n",
    "remote: Counting objects: 100% (63/63), done. Counting objects:  47% (30/63)\n",
    "remote: Compressing objects: 100% (61/61), done.\n",
    "Unpacking objects:  36% (24/65)remote: Total 65 (delta 39), reused 2 (delta 2), pack-reused 2\n",
    "Unpacking objects: 100% (65/65), done.\n",
    "From gitlab.wuren.com:guorui.zhang/airflow-task-southamerica\n",
    "   8151e9d..2a03907  master     -> origin/master\n",
    "Updating 8151e9d..2a03907\n",
    "error: Your local changes to the following files would be overwritten by merge:\n",
    "\tdags/flurry_s3_redshift_alpha/data_warehouse/dwd2dws.py\n",
    "Please commit your changes or stash them before you merge.\n",
    "Aborting\n",
    "```"
   ]
  },
  {
   "cell_type": "markdown",
   "id": "d30f2969",
   "metadata": {},
   "source": [
    "更新操作：\n",
    "> \n",
    "> git pull  \n",
    "\n",
    "> git pull origin  \n",
    "\n",
    "> 将远程主机 origin 的 master 分支拉取过来，与本地的 brantest 分支合并。  \n",
    "\n",
    "> git pull origin master:brantest  \n",
    "\n",
    "> 如果远程分支是与当前分支合并，则冒号后面的部分可以省略。  \n",
    "\n",
    "> git pull origin master  \n",
    "\n",
    "解决办法：  \n",
    "先git stash 缓存工作区，然后git pull拉取合并，最后再git stash apply"
   ]
  },
  {
   "cell_type": "markdown",
   "id": "250ac306",
   "metadata": {},
   "source": [
    "## 使用场景2: 切换分支，删除分支  \n",
    "\n",
    "1.Git branch  \n",
    "\n",
    "一般用于分支的操作，比如创建分支，查看分支等等，  \n",
    "\n",
    "1. git branch  \n",
    "不带参数：列出本地已经存在的分支，并且在当前分支的前面用\"*\"标记\n",
    "\n",
    "2. git branch -r  \n",
    "查看远程版本库分支列表\n",
    "\n",
    "3. git branch -a  \n",
    "查看所有分支列表，包括本地和远程\n",
    "\n",
    "4. git branch dev  \n",
    "创建名为dev的分支，创建分支时需要是最新的环境，创建分支但依然停留在当前分支\n",
    "\n",
    "5. git checkout branchname  \n",
    "切换分支名，checkout移动head指针的操作\n",
    "\n",
    "5. git branch -d dev  \n",
    "删除dev分支，如果在分支中有一些未merge的提交，那么会删除分支失败，此时可以使用 git branch -D dev：强制删除dev分支，\n",
    "\n",
    "6. git branch -vv   \n",
    "可以查看本地分支对应的远程分支\n",
    "\n",
    "7. git branch -m oldName newName  \n",
    "给分支重命名"
   ]
  },
  {
   "cell_type": "markdown",
   "id": "b9a40a1f",
   "metadata": {},
   "source": [
    "## 使用场景3: 临时新建分支修一个bug，不影响当前正在开发的任务  \n",
    "[Bug分支](https://www.liaoxuefeng.com/wiki/896043488029600/900388704535136)\n",
    "* 新建分支bug，缓存当前任务分支\n",
    "* 修完bug，切换分支\n",
    "* 合并分支\n",
    "* 删除bug分支\n",
    "\n",
    "## 使用场景4: 修完的bug合并到master分支了，但是feature分支也需要同步bug的修改，但不能pull覆盖本地新功能的开发  \n",
    "[git cherry-pick 教程](https://www.ruanyifeng.com/blog/2020/04/git-cherry-pick.html)  \n",
    "> git cherry-pick <commitHash>\n",
    "    \n",
    "## 使用场景5: 查看不同分支的差异  \n",
    "> 功能：在工作树和索引或树之间显示更改，索引和树之间的更改，两个树之间的更改，两个blob对象之间的更改或两个文件在磁盘上的更改\n",
    "> 工作树：working directory  index/stage： 索引树 树：版本库  \n",
    "[git diff命令](https://www.yiibai.com/git/git_diff.html)  \n",
    "\n",
    "检查工作树的几种方式\n",
    "$ git diff            #(1)  \n",
    "\n",
    "$ git diff --cached   #(2)  \n",
    "    \n",
    "$ git diff HEAD       #(3)  \n",
    "\n",
    "工作树中的更改尚未分段进行下一次提交。索引和最后一次提交之间的变化; 查看已经git add ，但没有git commit 的改动。自上次提交以来工作树中的更改；如果运行“git commit -a”，查看将会提交什么。  \n",
    "\n",
    "查看尚未暂存的文件更新了哪些部分，不加参数直接输入 -  \n",
    "\n",
    "$ git diff  \n",
    "    \n",
    "此命令比较的是工作目录(Working tree)和暂存区域快照(index)之间的差异也就是修改之后还没有暂存起来的变化内容。  \n",
    "    \n",
    "查看已经暂存起来的文件(staged)和上次提交时的快照之间(HEAD)的差异 -  \n",
    "    \n",
    "$ git diff --cached  \n",
    "\n",
    "$ git diff --staged  \n",
    "    \n",
    "显示的是下一次提交时会提交到HEAD的内容(不带-a情况下)  \n",
    "    \n",
    "显示工作版本(Working tree)和HEAD的差别  \n",
    "    \n",
    "$ git diff HEAD  \n",
    "\n",
    "\n"
   ]
  },
  {
   "cell_type": "code",
   "execution_count": null,
   "id": "6ea795b0",
   "metadata": {},
   "outputs": [],
   "source": []
  }
 ],
 "metadata": {
  "kernelspec": {
   "display_name": "Python 3",
   "language": "python",
   "name": "python3"
  },
  "language_info": {
   "codemirror_mode": {
    "name": "ipython",
    "version": 3
   },
   "file_extension": ".py",
   "mimetype": "text/x-python",
   "name": "python",
   "nbconvert_exporter": "python",
   "pygments_lexer": "ipython3",
   "version": "3.8.8"
  }
 },
 "nbformat": 4,
 "nbformat_minor": 5
}
